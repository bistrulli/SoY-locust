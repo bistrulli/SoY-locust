{
 "cells": [
  {
   "cell_type": "markdown",
   "metadata": {},
   "source": [
    "# Data Visualization\n",
    "\n",
    "This notebook loads the CSV files present in the `results` folder and displays several plots using matplotlib and pandas."
   ]
  },
  {
   "cell_type": "code",
   "execution_count": null,
   "metadata": {},
   "outputs": [],
   "source": [
    "import os\n",
    "import pandas as pd\n",
    "import matplotlib.pyplot as plt\n",
    "\n",
    "# Set the path to the results folder (assuming it is one level above the ui folder)\n",
    "results_dir = os.path.join(os.path.dirname(os.path.abspath('__file__')), '..', 'results')\n",
    "print('Results directory:', results_dir)\n",
    "\n",
    "# List CSV files\n",
    "csv_files = [f for f in os.listdir(results_dir) if f.endswith('.csv')]\n",
    "print('CSV files found:', csv_files)\n",
    "\n",
    "# For each file, display a subplot with 3 rows:\n",
    "# The first showing the trend of 'rts', the second showing the trend of 'users',\n",
    "# and the third showing the trend of 'replica'.\n",
    "for file in csv_files:\n",
    "    path = os.path.join(results_dir, file)\n",
    "    df = pd.read_csv(path)\n",
    "    print(f\"\\n--- Data from {file} ---\")\n",
    "    display(df.head())\n",
    "    \n",
    "    fig, axes = plt.subplots(nrows=3, ncols=1, figsize=(10, 12))\n",
    "    \n",
    "    # First plot: response time (rts)\n",
    "    if 'rts' in df.columns:\n",
    "        axes[0].plot(df['rts'], color='blue')\n",
    "        axes[0].set_title(\"Response Time Trend (rts)\")\n",
    "        axes[0].set_xlabel(\"Tick\")\n",
    "        axes[0].set_ylabel(\"Response Time\")\n",
    "    else:\n",
    "        axes[0].text(0.5, 0.5, \"Column 'rts' not found\", horizontalalignment='center')\n",
    "    \n",
    "    # Second plot: active users (users)\n",
    "    if 'users' in df.columns:\n",
    "        axes[1].plot(df['users'], color='green')\n",
    "        axes[1].set_title(\"Active Users Trend (users)\")\n",
    "        axes[1].set_xlabel(\"Tick\")\n",
    "        axes[1].set_ylabel(\"Users\")\n",
    "    else:\n",
    "        axes[1].text(0.5, 0.5, \"Column 'users' not found\", horizontalalignment='center')\n",
    "    \n",
    "    # Third plot: replica count (replica)\n",
    "    if 'replica' in df.columns:\n",
    "        axes[2].plot(df['replica'], color='red')\n",
    "        axes[2].set_title(\"Replica Count Trend (replica)\")\n",
    "        axes[2].set_xlabel(\"Tick\")\n",
    "        axes[2].set_ylabel(\"Replica Count\")\n",
    "    else:\n",
    "        axes[2].text(0.5, 0.5, \"Column 'replica' not found\", horizontalalignment='center')\n",
    "    \n",
    "    plt.tight_layout()\n",
    "    plt.show()\n"
   ]
  },
  {
   "cell_type": "code",
   "execution_count": null,
   "metadata": {},
   "outputs": [],
   "source": []
  }
 ],
 "metadata": {
  "language_info": {
   "name": "python"
  }
 },
 "nbformat": 4,
 "nbformat_minor": 2
}
