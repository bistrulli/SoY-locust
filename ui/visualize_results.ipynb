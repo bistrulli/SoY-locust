{
 "cells": [
  {
   "cell_type": "markdown",
   "metadata": {},
   "source": [
    "# Visualizzazione dei dati\n",
    "\n",
    "Questo notebook carica i file CSV presenti nella cartella `results` e visualizza alcuni grafici usando matplotlib e pandas."
   ]
  },
  {
   "cell_type": "code",
   "execution_count": null,
   "metadata": {},
   "outputs": [],
   "source": [
    "import os\n",
    "import pandas as pd\n",
    "import matplotlib.pyplot as plt\n",
    "\n",
    "# Imposta il percorso della cartella results (assumendo che ci sia a livello superiore rispetto a ui)\n",
    "results_dir = os.path.join(os.path.dirname(os.path.abspath('__file__')), '..', 'results')\n",
    "print('Directory dei risultati:', results_dir)\n",
    "\n",
    "# Lista dei file CSV\n",
    "csv_files = [f for f in os.listdir(results_dir) if f.endswith('.csv')]\n",
    "print('File CSV trovati:', csv_files)\n",
    "\n",
    "# Loop per caricare e visualizzare ciascun file\n",
    "for file in csv_files:\n",
    "    path = os.path.join(results_dir, file)\n",
    "    df = pd.read_csv(path)\n",
    "    print(f\"\\n--- Dati da {file} ---\")\n",
    "    display(df.head())  # Per Jupyter, mostra le prime righe\n",
    "\n",
    "    # Seleziona alcune colonne per visualizzare un esempio di plot, ad esempio 'rts' e 'tr'\n",
    "    if 'rts' in df.columns and 'tr' in df.columns:\n",
    "        plt.figure(figsize=(10, 4))\n",
    "        plt.plot(df['rts'], label='Response Time')\n",
    "        plt.plot(df['tr'], label='Throughput')\n",
    "        plt.xlabel('Tick')\n",
    "        plt.ylabel('Valore')\n",
    "        plt.title(f'Andamento di Response Time e Throughput in {file}')\n",
    "        plt.legend()\n",
    "        plt.show()\n",
    "\n",
    "    # Aggiungi altri plot se necessario"
   ]
  }
 ],
 "metadata": {
  "language_info": {
   "name": "python"
  }
 },
 "nbformat": 4,
 "nbformat_minor": 2
}
